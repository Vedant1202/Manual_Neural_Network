{
 "cells": [
  {
   "cell_type": "markdown",
   "metadata": {
    "collapsed": true
   },
   "source": [
    "# Operations Classes\n",
    "Make a operations classes to feed in the inputs and process the outputs"
   ]
  },
  {
   "cell_type": "code",
   "execution_count": 94,
   "metadata": {
    "collapsed": true
   },
   "outputs": [],
   "source": [
    "class Operation():\n",
    "    \n",
    "    def __init__(self,  input_nodes=[]):\n",
    "        self.input_nodes = input_nodes\n",
    "        self.output_nodes = []\n",
    "        \n",
    "        for node in input_nodes:\n",
    "            node.output_nodes.append(self)\n",
    "        \n",
    "        _default_graph.operations.append(self) ## Append the operations class to global 'default graph'\n",
    "            \n",
    "    def compute(self):\n",
    "        pass           ##Should be overridden by other classes"
   ]
  },
  {
   "cell_type": "code",
   "execution_count": 95,
   "metadata": {
    "collapsed": true
   },
   "outputs": [],
   "source": [
    "class Add(Operation):\n",
    "    \n",
    "    def __init__(self, x, y):\n",
    "        super().__init__([x,y])   ##Inherits the init from Operation class and overrides it.\n",
    "    \n",
    "    def compute(self, xVariable, yVariable):\n",
    "        self.inputs = [xVariable, yVariable]\n",
    "        return (xVariable + yVariable)"
   ]
  },
  {
   "cell_type": "code",
   "execution_count": 96,
   "metadata": {
    "collapsed": true
   },
   "outputs": [],
   "source": [
    "class Multiply(Operation):\n",
    "        \n",
    "    def __init__(self, x, y):\n",
    "        super().__init__([x,y])   ##Inherits the init from Operation class and overrides it.\n",
    "        \n",
    "    def compute(self, xVariable, yVariable):\n",
    "        self.inputs = [xVariable, yVariable]\n",
    "        return (xVariable * yVariable)"
   ]
  },
  {
   "cell_type": "code",
   "execution_count": 97,
   "metadata": {
    "collapsed": true
   },
   "outputs": [],
   "source": [
    "class MatMul(Operation):\n",
    "        \n",
    "    def __init__(self, x, y):\n",
    "        super().__init__([x,y])\n",
    "    \n",
    "    def compute(self, xVariable, yVariable):\n",
    "        self.inputs = [xVariable, yVariable]\n",
    "        return xVariable.dot(yVariable)  ##Assumes that the xVariable is a numpy array "
   ]
  },
  {
   "cell_type": "markdown",
   "metadata": {},
   "source": [
    "# Placeholder Class\n",
    "A placeholder class to basically get the input data and feed it to the neural network. It serves as a template to the incoming data."
   ]
  },
  {
   "cell_type": "code",
   "execution_count": 98,
   "metadata": {
    "collapsed": true
   },
   "outputs": [],
   "source": [
    "class Placeholder():\n",
    "    \n",
    "    def __init__(self):\n",
    "        self.output_nodes = []\n",
    "        _default_graph.placeholders.append(self) ## Grab global graph variable and append a placeholder to it\n",
    "        "
   ]
  },
  {
   "cell_type": "markdown",
   "metadata": {},
   "source": [
    "# Variable Class\n",
    "It represents the variables that are to be passed on to the other classes"
   ]
  },
  {
   "cell_type": "code",
   "execution_count": 99,
   "metadata": {
    "collapsed": true
   },
   "outputs": [],
   "source": [
    "class Variable():\n",
    "    \n",
    "    def __init__(self, initial_value=None):\n",
    "        self.value = initial_value\n",
    "        self.output_nodes = []\n",
    "        \n",
    "        _default_graph.variables.append(self) ## Grab global graph variable and append vars to it"
   ]
  },
  {
   "cell_type": "markdown",
   "metadata": {},
   "source": [
    "# Graph Class\n",
    "It serves as a connector between the placeholders, variables to the appropriate operations classes. It is a global object."
   ]
  },
  {
   "cell_type": "code",
   "execution_count": 100,
   "metadata": {},
   "outputs": [],
   "source": [
    "class Graph():\n",
    "    \n",
    "    def __init__(self):\n",
    "        self.operations = []\n",
    "        self.placeholders = []\n",
    "        self.variables = []\n",
    "        \n",
    "    def setDefault(self):\n",
    "         global _default_graph ## Set the class as global\n",
    "         \n",
    "         _default_graph = self"
   ]
  },
  {
   "cell_type": "markdown",
   "metadata": {},
   "source": [
    "# Post-order function\n",
    "Make sure that the multiplication happens before addition. Tree-traversal is being used to implement the function."
   ]
  },
  {
   "cell_type": "code",
   "execution_count": 101,
   "metadata": {},
   "outputs": [],
   "source": [
    "def traverse_postOrder(operation):\n",
    "    \n",
    "    \"\"\"\n",
    "    Post-order traversal of nodes. Checks and corrects that the operations \n",
    "    follow the order multiplication and then addition ie, (A*x) and then '+ B'\n",
    "    Where A is the input, x is the weight(random) and B is the bias.\n",
    "    \"\"\"\n",
    "    nodes_postOrder = []\n",
    "    def fixOrder(node):\n",
    "            if isinstance(node, Operation):\n",
    "                for input_node in node.input_nodes:\n",
    "                    fixOrder(input_node)\n",
    "            nodes_postOrder.append(node)\n",
    "            \n",
    "    fixOrder(operation)\n",
    "    return nodes_postOrder"
   ]
  },
  {
   "cell_type": "markdown",
   "metadata": {},
   "source": [
    "# Session\n",
    "A class that creates a session for the neural network to work. It will work as a kind of an environment for the functioning of the neural network."
   ]
  },
  {
   "cell_type": "code",
   "execution_count": 102,
   "metadata": {},
   "outputs": [],
   "source": [
    "class Session():\n",
    "    \n",
    "    def run(self, operation, feed_dict={}):    ## Feed a batch of data through the dict\n",
    "        nodes_postOrder = traverse_postOrder(operation)\n",
    "        \n",
    "        for node in nodes_postOrder:\n",
    "            \n",
    "            if (type(node) == Placeholder):\n",
    "                node.output = feed_dict[node]\n",
    "            \n",
    "            elif (type(node)) == Variable:\n",
    "                node.output = node.value\n",
    "            \n",
    "            else:\n",
    "                ##Operations\n",
    "                node.inputs = [input_node.output for input_node in node.input_nodes]\n",
    "                node.output = node.compute(*node.inputs)\n",
    "            \n",
    "            if (type(node.output == list)):\n",
    "                node.output = np.array(node.output)\n",
    "                \n",
    "        return operation.output"
   ]
  },
  {
   "cell_type": "markdown",
   "metadata": {},
   "source": [
    "# Classification \n",
    "## Sigmoid \n",
    "I have chosen sigmoid function as the activation function as I think it is the most convenient for a simple application.\n"
   ]
  },
  {
   "cell_type": "code",
   "execution_count": 103,
   "metadata": {
    "collapsed": true
   },
   "outputs": [],
   "source": [
    "import numpy as np"
   ]
  },
  {
   "cell_type": "code",
   "execution_count": 104,
   "metadata": {
    "collapsed": true
   },
   "outputs": [],
   "source": [
    "class Sigmoid(Operation):\n",
    "    \n",
    "    def __init__(self, z):\n",
    "        super().__init__([z])\n",
    "        \n",
    "    def compute(self, z_value):\n",
    "        return (1/(1 + np.exp(-z_value)))"
   ]
  },
  {
   "cell_type": "code",
   "execution_count": 105,
   "metadata": {},
   "outputs": [],
   "source": [
    "from sklearn.datasets import make_blobs"
   ]
  },
  {
   "cell_type": "code",
   "execution_count": 106,
   "metadata": {
    "collapsed": true
   },
   "outputs": [],
   "source": [
    "data = make_blobs(n_samples=100, n_features=2, centers=2, random_state=100)\n",
    "## This creates a basic bindry classification problem which is perfect for \n",
    "## testing this neural network"
   ]
  },
  {
   "cell_type": "code",
   "execution_count": 107,
   "metadata": {},
   "outputs": [
    {
     "data": {
      "text/plain": [
       "(array([[  3.36818459e-01,  -3.40287961e+00],\n",
       "        [ -1.08726796e+00,   5.80147972e+00],\n",
       "        [ -1.93336328e+00,   5.70953908e+00],\n",
       "        [ -1.63584937e+00,   8.88579630e+00],\n",
       "        [  5.41860777e-01,  -4.37693628e+00],\n",
       "        [  2.66345400e-01,   7.40859703e+00],\n",
       "        [  1.64692124e+00,  -4.00437943e+00],\n",
       "        [  5.36321701e-01,  -5.12183028e+00],\n",
       "        [  4.10071850e-01,  -3.99744881e+00],\n",
       "        [ -3.39121202e-01,   8.97323488e+00],\n",
       "        [  1.84941962e+00,  -3.91839346e+00],\n",
       "        [ -7.56585997e-01,   5.28608375e+00],\n",
       "        [ -8.36552370e-01,  -5.56887330e+00],\n",
       "        [  2.84503785e-01,  -3.61576523e+00],\n",
       "        [  1.44867217e+00,  -5.53713539e+00],\n",
       "        [  2.74467226e+00,  -4.80951565e+00],\n",
       "        [  1.59909918e+00,  -3.07105617e+00],\n",
       "        [ -1.31673099e+00,   6.54706372e+00],\n",
       "        [ -1.68442974e+00,   7.91278699e+00],\n",
       "        [  1.10594346e+00,  -4.41906375e+00],\n",
       "        [  2.48708050e+00,  -2.89100712e+00],\n",
       "        [  5.87148931e-03,  -3.18314256e+00],\n",
       "        [  1.61854360e+00,  -4.88855923e+00],\n",
       "        [ -7.62592530e-01,   7.32519908e+00],\n",
       "        [ -6.98588694e-01,  -3.52763818e+00],\n",
       "        [  1.11746530e-01,  -3.61615829e+00],\n",
       "        [ -1.04334882e+00,   7.16550989e+00],\n",
       "        [  6.83084725e-01,  -6.91976383e+00],\n",
       "        [  1.05261753e+00,  -3.49553010e+00],\n",
       "        [ -2.10963123e+00,   8.47168937e+00],\n",
       "        [  1.54081964e+00,  -4.53702344e+00],\n",
       "        [  2.70003492e+00,  -4.42959486e+00],\n",
       "        [  6.16219697e-01,  -5.27504804e+00],\n",
       "        [ -1.82947923e+00,   5.74778105e+00],\n",
       "        [ -2.21406638e+00,   6.30414753e+00],\n",
       "        [ -7.45479667e-01,  -2.96189843e+00],\n",
       "        [  7.88487590e-01,  -5.32234378e+00],\n",
       "        [ -2.02407808e+00,   6.67946253e+00],\n",
       "        [ -2.90664753e+00,   5.79835066e+00],\n",
       "        [ -1.92546452e+00,   5.53701971e+00],\n",
       "        [ -2.13385599e-01,   7.84779827e+00],\n",
       "        [ -7.19473257e-02,  -5.26054466e+00],\n",
       "        [  7.89005756e-01,   6.73031309e+00],\n",
       "        [ -1.37722038e+00,   6.91773657e+00],\n",
       "        [ -8.37853170e-01,  -4.06344834e+00],\n",
       "        [ -1.96557020e+00,   7.54469557e+00],\n",
       "        [ -1.20859872e+00,   5.21062268e+00],\n",
       "        [ -2.72690232e+00,   6.73825748e+00],\n",
       "        [ -2.80603999e+00,   6.99066209e+00],\n",
       "        [  1.55822031e+00,  -3.74572223e+00],\n",
       "        [  2.89273011e-01,  -5.63206350e+00],\n",
       "        [ -3.19918761e-01,  -4.98235849e+00],\n",
       "        [ -2.92469111e+00,   6.25476272e+00],\n",
       "        [  4.33614078e-01,   5.44808653e+00],\n",
       "        [  2.16784691e+00,  -6.16570792e+00],\n",
       "        [  1.89502028e+00,  -5.86480291e+00],\n",
       "        [ -2.72740300e-01,   6.66523797e+00],\n",
       "        [  2.05772110e+00,  -6.12322912e+00],\n",
       "        [ -9.17624916e-01,   6.45845823e+00],\n",
       "        [ -7.67430564e-01,  -5.47682218e+00],\n",
       "        [ -3.46772942e+00,   6.76072133e+00],\n",
       "        [  1.09049844e+00,  -5.87582929e+00],\n",
       "        [ -1.15211263e-01,  -4.07510454e+00],\n",
       "        [  1.08927851e+00,  -5.50265563e+00],\n",
       "        [ -6.15050479e-01,   7.65521577e+00],\n",
       "        [  4.29963213e-01,  -5.55093054e+00],\n",
       "        [  1.61855217e+00,  -5.73960464e+00],\n",
       "        [ -7.30021881e-01,   6.45740173e+00],\n",
       "        [ -1.37939973e+00,   7.84488351e+00],\n",
       "        [ -3.01723335e+00,   7.00340678e+00],\n",
       "        [ -9.73089464e-01,  -4.06651907e+00],\n",
       "        [ -4.88300213e-01,  -5.66504681e+00],\n",
       "        [ -3.52483690e+00,   6.81598206e+00],\n",
       "        [ -9.86650380e-01,   6.87917724e+00],\n",
       "        [  7.65227534e-02,   7.58891330e+00],\n",
       "        [  9.76962304e-01,  -3.92480271e+00],\n",
       "        [  5.65144983e-01,   6.55222496e+00],\n",
       "        [ -3.00736857e+00,   5.70163667e+00],\n",
       "        [ -1.87511018e+00,   5.62449961e+00],\n",
       "        [ -1.28725738e+00,   6.21060091e+00],\n",
       "        [ -9.05224646e-01,   5.98849223e+00],\n",
       "        [  3.23659674e-01,  -5.10078403e+00],\n",
       "        [ -1.74836105e+00,   5.46645575e+00],\n",
       "        [ -5.60643409e-01,   6.87612506e+00],\n",
       "        [  6.78603005e-01,  -4.17761085e+00],\n",
       "        [  1.93975803e-01,   6.17337188e+00],\n",
       "        [ -3.05026421e+00,   8.94223661e+00],\n",
       "        [ -4.15961535e-01,   6.66600489e+00],\n",
       "        [ -7.72653016e-01,   7.33138990e+00],\n",
       "        [ -2.10521664e+00,  -4.39929502e+00],\n",
       "        [ -2.12627756e+00,   7.65870629e+00],\n",
       "        [  7.92075370e-01,  -4.42865470e+00],\n",
       "        [ -1.75853685e+00,   6.44534621e+00],\n",
       "        [ -1.51854685e+00,   6.35232464e+00],\n",
       "        [  9.76970826e-01,  -4.40432866e+00],\n",
       "        [ -1.19228021e+00,   6.14310847e+00],\n",
       "        [  8.75413399e-01,  -5.04555103e+00],\n",
       "        [  1.48113772e+00,  -3.69640708e+00],\n",
       "        [  2.90270640e+00,  -4.98332671e+00],\n",
       "        [ -1.36995537e-02,  -4.41397335e+00]]),\n",
       " array([0, 1, 1, 1, 0, 1, 0, 0, 0, 1, 0, 1, 0, 0, 0, 0, 0, 1, 1, 0, 0, 0, 0,\n",
       "        1, 0, 0, 1, 0, 0, 1, 0, 0, 0, 1, 1, 0, 0, 1, 1, 1, 1, 0, 1, 1, 0, 1,\n",
       "        1, 1, 1, 0, 0, 0, 1, 1, 0, 0, 1, 0, 1, 0, 1, 0, 0, 0, 1, 0, 0, 1, 1,\n",
       "        1, 0, 0, 1, 1, 1, 0, 1, 1, 1, 1, 1, 0, 1, 1, 0, 1, 1, 1, 1, 0, 1, 0,\n",
       "        1, 1, 0, 1, 0, 0, 0, 0]))"
      ]
     },
     "execution_count": 107,
     "metadata": {},
     "output_type": "execute_result"
    }
   ],
   "source": [
    "data"
   ]
  },
  {
   "cell_type": "code",
   "execution_count": 108,
   "metadata": {},
   "outputs": [
    {
     "data": {
      "text/plain": [
       "array([[  3.36818459e-01,  -3.40287961e+00],\n",
       "       [ -1.08726796e+00,   5.80147972e+00],\n",
       "       [ -1.93336328e+00,   5.70953908e+00],\n",
       "       [ -1.63584937e+00,   8.88579630e+00],\n",
       "       [  5.41860777e-01,  -4.37693628e+00],\n",
       "       [  2.66345400e-01,   7.40859703e+00],\n",
       "       [  1.64692124e+00,  -4.00437943e+00],\n",
       "       [  5.36321701e-01,  -5.12183028e+00],\n",
       "       [  4.10071850e-01,  -3.99744881e+00],\n",
       "       [ -3.39121202e-01,   8.97323488e+00],\n",
       "       [  1.84941962e+00,  -3.91839346e+00],\n",
       "       [ -7.56585997e-01,   5.28608375e+00],\n",
       "       [ -8.36552370e-01,  -5.56887330e+00],\n",
       "       [  2.84503785e-01,  -3.61576523e+00],\n",
       "       [  1.44867217e+00,  -5.53713539e+00],\n",
       "       [  2.74467226e+00,  -4.80951565e+00],\n",
       "       [  1.59909918e+00,  -3.07105617e+00],\n",
       "       [ -1.31673099e+00,   6.54706372e+00],\n",
       "       [ -1.68442974e+00,   7.91278699e+00],\n",
       "       [  1.10594346e+00,  -4.41906375e+00],\n",
       "       [  2.48708050e+00,  -2.89100712e+00],\n",
       "       [  5.87148931e-03,  -3.18314256e+00],\n",
       "       [  1.61854360e+00,  -4.88855923e+00],\n",
       "       [ -7.62592530e-01,   7.32519908e+00],\n",
       "       [ -6.98588694e-01,  -3.52763818e+00],\n",
       "       [  1.11746530e-01,  -3.61615829e+00],\n",
       "       [ -1.04334882e+00,   7.16550989e+00],\n",
       "       [  6.83084725e-01,  -6.91976383e+00],\n",
       "       [  1.05261753e+00,  -3.49553010e+00],\n",
       "       [ -2.10963123e+00,   8.47168937e+00],\n",
       "       [  1.54081964e+00,  -4.53702344e+00],\n",
       "       [  2.70003492e+00,  -4.42959486e+00],\n",
       "       [  6.16219697e-01,  -5.27504804e+00],\n",
       "       [ -1.82947923e+00,   5.74778105e+00],\n",
       "       [ -2.21406638e+00,   6.30414753e+00],\n",
       "       [ -7.45479667e-01,  -2.96189843e+00],\n",
       "       [  7.88487590e-01,  -5.32234378e+00],\n",
       "       [ -2.02407808e+00,   6.67946253e+00],\n",
       "       [ -2.90664753e+00,   5.79835066e+00],\n",
       "       [ -1.92546452e+00,   5.53701971e+00],\n",
       "       [ -2.13385599e-01,   7.84779827e+00],\n",
       "       [ -7.19473257e-02,  -5.26054466e+00],\n",
       "       [  7.89005756e-01,   6.73031309e+00],\n",
       "       [ -1.37722038e+00,   6.91773657e+00],\n",
       "       [ -8.37853170e-01,  -4.06344834e+00],\n",
       "       [ -1.96557020e+00,   7.54469557e+00],\n",
       "       [ -1.20859872e+00,   5.21062268e+00],\n",
       "       [ -2.72690232e+00,   6.73825748e+00],\n",
       "       [ -2.80603999e+00,   6.99066209e+00],\n",
       "       [  1.55822031e+00,  -3.74572223e+00],\n",
       "       [  2.89273011e-01,  -5.63206350e+00],\n",
       "       [ -3.19918761e-01,  -4.98235849e+00],\n",
       "       [ -2.92469111e+00,   6.25476272e+00],\n",
       "       [  4.33614078e-01,   5.44808653e+00],\n",
       "       [  2.16784691e+00,  -6.16570792e+00],\n",
       "       [  1.89502028e+00,  -5.86480291e+00],\n",
       "       [ -2.72740300e-01,   6.66523797e+00],\n",
       "       [  2.05772110e+00,  -6.12322912e+00],\n",
       "       [ -9.17624916e-01,   6.45845823e+00],\n",
       "       [ -7.67430564e-01,  -5.47682218e+00],\n",
       "       [ -3.46772942e+00,   6.76072133e+00],\n",
       "       [  1.09049844e+00,  -5.87582929e+00],\n",
       "       [ -1.15211263e-01,  -4.07510454e+00],\n",
       "       [  1.08927851e+00,  -5.50265563e+00],\n",
       "       [ -6.15050479e-01,   7.65521577e+00],\n",
       "       [  4.29963213e-01,  -5.55093054e+00],\n",
       "       [  1.61855217e+00,  -5.73960464e+00],\n",
       "       [ -7.30021881e-01,   6.45740173e+00],\n",
       "       [ -1.37939973e+00,   7.84488351e+00],\n",
       "       [ -3.01723335e+00,   7.00340678e+00],\n",
       "       [ -9.73089464e-01,  -4.06651907e+00],\n",
       "       [ -4.88300213e-01,  -5.66504681e+00],\n",
       "       [ -3.52483690e+00,   6.81598206e+00],\n",
       "       [ -9.86650380e-01,   6.87917724e+00],\n",
       "       [  7.65227534e-02,   7.58891330e+00],\n",
       "       [  9.76962304e-01,  -3.92480271e+00],\n",
       "       [  5.65144983e-01,   6.55222496e+00],\n",
       "       [ -3.00736857e+00,   5.70163667e+00],\n",
       "       [ -1.87511018e+00,   5.62449961e+00],\n",
       "       [ -1.28725738e+00,   6.21060091e+00],\n",
       "       [ -9.05224646e-01,   5.98849223e+00],\n",
       "       [  3.23659674e-01,  -5.10078403e+00],\n",
       "       [ -1.74836105e+00,   5.46645575e+00],\n",
       "       [ -5.60643409e-01,   6.87612506e+00],\n",
       "       [  6.78603005e-01,  -4.17761085e+00],\n",
       "       [  1.93975803e-01,   6.17337188e+00],\n",
       "       [ -3.05026421e+00,   8.94223661e+00],\n",
       "       [ -4.15961535e-01,   6.66600489e+00],\n",
       "       [ -7.72653016e-01,   7.33138990e+00],\n",
       "       [ -2.10521664e+00,  -4.39929502e+00],\n",
       "       [ -2.12627756e+00,   7.65870629e+00],\n",
       "       [  7.92075370e-01,  -4.42865470e+00],\n",
       "       [ -1.75853685e+00,   6.44534621e+00],\n",
       "       [ -1.51854685e+00,   6.35232464e+00],\n",
       "       [  9.76970826e-01,  -4.40432866e+00],\n",
       "       [ -1.19228021e+00,   6.14310847e+00],\n",
       "       [  8.75413399e-01,  -5.04555103e+00],\n",
       "       [  1.48113772e+00,  -3.69640708e+00],\n",
       "       [  2.90270640e+00,  -4.98332671e+00],\n",
       "       [ -1.36995537e-02,  -4.41397335e+00]])"
      ]
     },
     "execution_count": 108,
     "metadata": {},
     "output_type": "execute_result"
    }
   ],
   "source": [
    "data[0]"
   ]
  },
  {
   "cell_type": "code",
   "execution_count": 109,
   "metadata": {},
   "outputs": [
    {
     "data": {
      "text/plain": [
       "-1.0872679645953607"
      ]
     },
     "execution_count": 109,
     "metadata": {},
     "output_type": "execute_result"
    }
   ],
   "source": [
    "data[0][1][0]"
   ]
  },
  {
   "cell_type": "code",
   "execution_count": 110,
   "metadata": {
    "collapsed": true
   },
   "outputs": [],
   "source": [
    "import pandas as pd"
   ]
  },
  {
   "cell_type": "code",
   "execution_count": 111,
   "metadata": {},
   "outputs": [],
   "source": [
    "dataDf = pd.DataFrame(data=(data[0][i] for i in range(0, 100)), columns=['Features_x', 'Features_y'])"
   ]
  },
  {
   "cell_type": "code",
   "execution_count": 112,
   "metadata": {},
   "outputs": [
    {
     "data": {
      "text/html": [
       "<div>\n",
       "<style>\n",
       "    .dataframe thead tr:only-child th {\n",
       "        text-align: right;\n",
       "    }\n",
       "\n",
       "    .dataframe thead th {\n",
       "        text-align: left;\n",
       "    }\n",
       "\n",
       "    .dataframe tbody tr th {\n",
       "        vertical-align: top;\n",
       "    }\n",
       "</style>\n",
       "<table border=\"1\" class=\"dataframe\">\n",
       "  <thead>\n",
       "    <tr style=\"text-align: right;\">\n",
       "      <th></th>\n",
       "      <th>Features_x</th>\n",
       "      <th>Features_y</th>\n",
       "    </tr>\n",
       "  </thead>\n",
       "  <tbody>\n",
       "    <tr>\n",
       "      <th>0</th>\n",
       "      <td>0.336818</td>\n",
       "      <td>-3.402880</td>\n",
       "    </tr>\n",
       "    <tr>\n",
       "      <th>1</th>\n",
       "      <td>-1.087268</td>\n",
       "      <td>5.801480</td>\n",
       "    </tr>\n",
       "    <tr>\n",
       "      <th>2</th>\n",
       "      <td>-1.933363</td>\n",
       "      <td>5.709539</td>\n",
       "    </tr>\n",
       "    <tr>\n",
       "      <th>3</th>\n",
       "      <td>-1.635849</td>\n",
       "      <td>8.885796</td>\n",
       "    </tr>\n",
       "    <tr>\n",
       "      <th>4</th>\n",
       "      <td>0.541861</td>\n",
       "      <td>-4.376936</td>\n",
       "    </tr>\n",
       "  </tbody>\n",
       "</table>\n",
       "</div>"
      ],
      "text/plain": [
       "   Features_x  Features_y\n",
       "0    0.336818   -3.402880\n",
       "1   -1.087268    5.801480\n",
       "2   -1.933363    5.709539\n",
       "3   -1.635849    8.885796\n",
       "4    0.541861   -4.376936"
      ]
     },
     "execution_count": 112,
     "metadata": {},
     "output_type": "execute_result"
    }
   ],
   "source": [
    "dataDf.head()"
   ]
  },
  {
   "cell_type": "code",
   "execution_count": 113,
   "metadata": {
    "collapsed": true
   },
   "outputs": [],
   "source": [
    "dataClassDf = pd.DataFrame(data=(data[1][i] for i in range(0, 100)), columns=['Class'])"
   ]
  },
  {
   "cell_type": "code",
   "execution_count": 114,
   "metadata": {},
   "outputs": [
    {
     "data": {
      "text/html": [
       "<div>\n",
       "<style>\n",
       "    .dataframe thead tr:only-child th {\n",
       "        text-align: right;\n",
       "    }\n",
       "\n",
       "    .dataframe thead th {\n",
       "        text-align: left;\n",
       "    }\n",
       "\n",
       "    .dataframe tbody tr th {\n",
       "        vertical-align: top;\n",
       "    }\n",
       "</style>\n",
       "<table border=\"1\" class=\"dataframe\">\n",
       "  <thead>\n",
       "    <tr style=\"text-align: right;\">\n",
       "      <th></th>\n",
       "      <th>Class</th>\n",
       "    </tr>\n",
       "  </thead>\n",
       "  <tbody>\n",
       "    <tr>\n",
       "      <th>0</th>\n",
       "      <td>0</td>\n",
       "    </tr>\n",
       "    <tr>\n",
       "      <th>1</th>\n",
       "      <td>1</td>\n",
       "    </tr>\n",
       "    <tr>\n",
       "      <th>2</th>\n",
       "      <td>1</td>\n",
       "    </tr>\n",
       "    <tr>\n",
       "      <th>3</th>\n",
       "      <td>1</td>\n",
       "    </tr>\n",
       "    <tr>\n",
       "      <th>4</th>\n",
       "      <td>0</td>\n",
       "    </tr>\n",
       "  </tbody>\n",
       "</table>\n",
       "</div>"
      ],
      "text/plain": [
       "   Class\n",
       "0      0\n",
       "1      1\n",
       "2      1\n",
       "3      1\n",
       "4      0"
      ]
     },
     "execution_count": 114,
     "metadata": {},
     "output_type": "execute_result"
    }
   ],
   "source": [
    "dataClassDf.head()"
   ]
  },
  {
   "cell_type": "code",
   "execution_count": 186,
   "metadata": {},
   "outputs": [],
   "source": [
    "dataDf = pd.concat([dataDf, dataClassDf], axis=1)"
   ]
  },
  {
   "cell_type": "code",
   "execution_count": 187,
   "metadata": {},
   "outputs": [
    {
     "data": {
      "text/html": [
       "<div>\n",
       "<style>\n",
       "    .dataframe thead tr:only-child th {\n",
       "        text-align: right;\n",
       "    }\n",
       "\n",
       "    .dataframe thead th {\n",
       "        text-align: left;\n",
       "    }\n",
       "\n",
       "    .dataframe tbody tr th {\n",
       "        vertical-align: top;\n",
       "    }\n",
       "</style>\n",
       "<table border=\"1\" class=\"dataframe\">\n",
       "  <thead>\n",
       "    <tr style=\"text-align: right;\">\n",
       "      <th></th>\n",
       "      <th>Features_x</th>\n",
       "      <th>Features_y</th>\n",
       "      <th>Class</th>\n",
       "    </tr>\n",
       "  </thead>\n",
       "  <tbody>\n",
       "    <tr>\n",
       "      <th>0</th>\n",
       "      <td>0.336818</td>\n",
       "      <td>-3.402880</td>\n",
       "      <td>0</td>\n",
       "    </tr>\n",
       "    <tr>\n",
       "      <th>1</th>\n",
       "      <td>-1.087268</td>\n",
       "      <td>5.801480</td>\n",
       "      <td>1</td>\n",
       "    </tr>\n",
       "    <tr>\n",
       "      <th>2</th>\n",
       "      <td>-1.933363</td>\n",
       "      <td>5.709539</td>\n",
       "      <td>1</td>\n",
       "    </tr>\n",
       "    <tr>\n",
       "      <th>3</th>\n",
       "      <td>-1.635849</td>\n",
       "      <td>8.885796</td>\n",
       "      <td>1</td>\n",
       "    </tr>\n",
       "    <tr>\n",
       "      <th>4</th>\n",
       "      <td>0.541861</td>\n",
       "      <td>-4.376936</td>\n",
       "      <td>0</td>\n",
       "    </tr>\n",
       "  </tbody>\n",
       "</table>\n",
       "</div>"
      ],
      "text/plain": [
       "   Features_x  Features_y  Class\n",
       "0    0.336818   -3.402880      0\n",
       "1   -1.087268    5.801480      1\n",
       "2   -1.933363    5.709539      1\n",
       "3   -1.635849    8.885796      1\n",
       "4    0.541861   -4.376936      0"
      ]
     },
     "execution_count": 187,
     "metadata": {},
     "output_type": "execute_result"
    }
   ],
   "source": [
    "dataDf.head()"
   ]
  },
  {
   "cell_type": "code",
   "execution_count": 116,
   "metadata": {},
   "outputs": [],
   "source": [
    "import matplotlib.pyplot as plt\n",
    "import seaborn as sns\n",
    "%matplotlib inline"
   ]
  },
  {
   "cell_type": "code",
   "execution_count": 117,
   "metadata": {},
   "outputs": [],
   "source": [
    "features = data[0]\n",
    "labels = data[1]"
   ]
  },
  {
   "cell_type": "code",
   "execution_count": 118,
   "metadata": {},
   "outputs": [
    {
     "data": {
      "text/plain": [
       "<matplotlib.axes._subplots.AxesSubplot at 0x1bbd3391ac8>"
      ]
     },
     "execution_count": 118,
     "metadata": {},
     "output_type": "execute_result"
    },
    {
     "data": {
      "image/png": "[encoded data removed]",
      "text/plain": [
       "<matplotlib.figure.Figure at 0x1bbd30ee128>"
      ]
     },
     "metadata": {},
     "output_type": "display_data"
    }
   ],
   "source": [
    "sns.scatterplot(x=features[:,0], y=features[:,1], hue=labels)"
   ]
  },
  {
   "cell_type": "code",
   "execution_count": 119,
   "metadata": {},
   "outputs": [
    {
     "data": {
      "text/plain": [
       "<matplotlib.legend.Legend at 0x1bbd337f6a0>"
      ]
     },
     "execution_count": 119,
     "metadata": {},
     "output_type": "execute_result"
    },
    {
     "data": {
      "image/png": "[encoded data removed]",
      "text/plain": [
       "<matplotlib.figure.Figure at 0x1bbd32d8cc0>"
      ]
     },
     "metadata": {},
     "output_type": "display_data"
    }
   ],
   "source": [
    "x = np.linspace(-3, 4)\n",
    "y = x + 1 ## You could try different line parameters as well\n",
    "sns.scatterplot(x=features[:,0], y=features[:,1], hue=labels)\n",
    "plt.plot(x, y, 'k', label='Seperation')\n",
    "plt.legend()"
   ]
  },
  {
   "cell_type": "raw",
   "metadata": {},
   "source": [
    "# The matrix form would be [-1, 1]*f -1 = 0\n",
    "We get this by simplyfying the line 'y = x + 1'\n",
    "<=> y - x - 1 = 0\n",
    "(#Let y = f2, x = f1 where f1, f2 are features of the data sample)\n",
    "<=> - f1 + f2 - 1 = 0\n",
    "<=> f[1,-1] -1 = 0\n",
    "Where F is the feature matrix. It has 2x1 shape.\n",
    "[1, -1] is a matrix of shape 1x1.\n",
    "# Conditions :\n",
    "## If \n",
    "the value is < 0 , then the class is '0'\n",
    "## Else\n",
    "the class is '1' \\n\n",
    "## Note that the zero condition leads to uncertain prediction."
   ]
  },
  {
   "cell_type": "markdown",
   "metadata": {},
   "source": [
    "# Example Session"
   ]
  },
  {
   "cell_type": "code",
   "execution_count": 120,
   "metadata": {},
   "outputs": [],
   "source": [
    "g = Graph()\n",
    "g.setDefault()"
   ]
  },
  {
   "cell_type": "code",
   "execution_count": 121,
   "metadata": {
    "collapsed": true
   },
   "outputs": [],
   "source": [
    "x = Placeholder()\n",
    "w = Variable([1, -1]) ##The multiplication matrix as discussed above\n",
    "b = Variable(-5)"
   ]
  },
  {
   "cell_type": "code",
   "execution_count": 122,
   "metadata": {
    "collapsed": true
   },
   "outputs": [],
   "source": [
    "z = Add(MatMul(w,x),b)"
   ]
  },
  {
   "cell_type": "code",
   "execution_count": 123,
   "metadata": {
    "collapsed": true
   },
   "outputs": [],
   "source": [
    "a = Sigmoid(z)"
   ]
  },
  {
   "cell_type": "code",
   "execution_count": 124,
   "metadata": {
    "collapsed": true
   },
   "outputs": [],
   "source": [
    "sess = Session()"
   ]
  },
  {
   "cell_type": "code",
   "execution_count": 135,
   "metadata": {},
   "outputs": [
    {
     "data": {
      "text/plain": [
       "array(6.867196956240302e-06)"
      ]
     },
     "execution_count": 135,
     "metadata": {},
     "output_type": "execute_result"
    }
   ],
   "source": [
    "sess.run(operation=a, feed_dict={x:[data[0][1][0], data[0][1]][1]})"
   ]
  },
  {
   "cell_type": "code",
   "execution_count": 126,
   "metadata": {},
   "outputs": [],
   "source": [
    "def getClass(a,b):\n",
    "    #x = Placeholder()\n",
    "    #w = Variable([1, -1]) ##The multiplication matrix as discussed above\n",
    "    #b = Variable(-5) \n",
    "    #z = Add(MatMul(w,x),b)\n",
    "    #a = Sigmoid(z)\n",
    "    #sess = Session()\n",
    "    if (sess.run(operation=a, feed_dict={x:[a,b]})) > 0:\n",
    "        return 1\n",
    "    else :\n",
    "        return 0"
   ]
  },
  {
   "cell_type": "code",
   "execution_count": 127,
   "metadata": {},
   "outputs": [
    {
     "data": {
      "text/plain": [
       "-3.402879612990731"
      ]
     },
     "execution_count": 127,
     "metadata": {},
     "output_type": "execute_result"
    }
   ],
   "source": [
    "float(data[0][0][1])"
   ]
  },
  {
   "cell_type": "code",
   "execution_count": 174,
   "metadata": {},
   "outputs": [],
   "source": [
    "pred = np.empty([100])\n",
    "for i in range(0, 100):\n",
    "    if np.around(sess.run(operation=a, feed_dict={x:[data[0][i][0], data[0][i][1]]})) == 0:\n",
    "        pred[i] = int(1)\n",
    "    else :\n",
    "        pred[i] = int(0)\n",
    "predInt = pred.astype(int)"
   ]
  },
  {
   "cell_type": "code",
   "execution_count": 176,
   "metadata": {},
   "outputs": [
    {
     "data": {
      "text/plain": [
       "array([1, 1, 1, 1, 1, 1, 0, 0, 1, 1, 0, 1, 1, 1, 0, 0, 1, 1, 1, 0, 0, 1, 0,\n",
       "       1, 1, 1, 1, 0, 1, 1, 0, 0, 0, 1, 1, 1, 0, 1, 1, 1, 1, 0, 1, 1, 1, 1,\n",
       "       1, 1, 1, 0, 0, 1, 1, 1, 0, 0, 1, 0, 1, 1, 1, 0, 1, 0, 1, 0, 0, 1, 1,\n",
       "       1, 1, 0, 1, 1, 1, 1, 1, 1, 1, 1, 1, 0, 1, 1, 1, 1, 1, 1, 1, 1, 1, 0,\n",
       "       1, 1, 0, 1, 0, 0, 0, 1])"
      ]
     },
     "execution_count": 176,
     "metadata": {},
     "output_type": "execute_result"
    }
   ],
   "source": [
    "predInt"
   ]
  },
  {
   "cell_type": "code",
   "execution_count": 171,
   "metadata": {},
   "outputs": [
    {
     "data": {
      "text/plain": [
       "numpy.float64"
      ]
     },
     "execution_count": 171,
     "metadata": {},
     "output_type": "execute_result"
    }
   ],
   "source": [
    "type(pred[0])"
   ]
  },
  {
   "cell_type": "code",
   "execution_count": 177,
   "metadata": {},
   "outputs": [],
   "source": [
    "predDf = pd.DataFrame(data=predInt, columns=['Predictions'])"
   ]
  },
  {
   "cell_type": "code",
   "execution_count": 178,
   "metadata": {},
   "outputs": [
    {
     "data": {
      "text/html": [
       "<div>\n",
       "<style>\n",
       "    .dataframe thead tr:only-child th {\n",
       "        text-align: right;\n",
       "    }\n",
       "\n",
       "    .dataframe thead th {\n",
       "        text-align: left;\n",
       "    }\n",
       "\n",
       "    .dataframe tbody tr th {\n",
       "        vertical-align: top;\n",
       "    }\n",
       "</style>\n",
       "<table border=\"1\" class=\"dataframe\">\n",
       "  <thead>\n",
       "    <tr style=\"text-align: right;\">\n",
       "      <th></th>\n",
       "      <th>Predictions</th>\n",
       "    </tr>\n",
       "  </thead>\n",
       "  <tbody>\n",
       "    <tr>\n",
       "      <th>0</th>\n",
       "      <td>1</td>\n",
       "    </tr>\n",
       "    <tr>\n",
       "      <th>1</th>\n",
       "      <td>1</td>\n",
       "    </tr>\n",
       "    <tr>\n",
       "      <th>2</th>\n",
       "      <td>1</td>\n",
       "    </tr>\n",
       "    <tr>\n",
       "      <th>3</th>\n",
       "      <td>1</td>\n",
       "    </tr>\n",
       "    <tr>\n",
       "      <th>4</th>\n",
       "      <td>1</td>\n",
       "    </tr>\n",
       "  </tbody>\n",
       "</table>\n",
       "</div>"
      ],
      "text/plain": [
       "   Predictions\n",
       "0            1\n",
       "1            1\n",
       "2            1\n",
       "3            1\n",
       "4            1"
      ]
     },
     "execution_count": 178,
     "metadata": {},
     "output_type": "execute_result"
    }
   ],
   "source": [
    "predDf.head()"
   ]
  },
  {
   "cell_type": "code",
   "execution_count": 179,
   "metadata": {
    "collapsed": true
   },
   "outputs": [],
   "source": [
    "from sklearn.metrics import classification_report"
   ]
  },
  {
   "cell_type": "code",
   "execution_count": 189,
   "metadata": {},
   "outputs": [
    {
     "name": "stdout",
     "output_type": "stream",
     "text": [
      "             precision    recall  f1-score   support\n",
      "\n",
      "          0       1.00      0.60      0.75        50\n",
      "          1       0.71      1.00      0.83        50\n",
      "\n",
      "avg / total       0.86      0.80      0.79       100\n",
      "\n"
     ]
    }
   ],
   "source": [
    "print(classification_report(dataDf['Class'], predDf['Predictions']))"
   ]
  },
  {
   "cell_type": "code",
   "execution_count": 190,
   "metadata": {
    "collapsed": true
   },
   "outputs": [],
   "source": [
    "results = pd.concat([dataDf, predDf], axis=1)"
   ]
  },
  {
   "cell_type": "code",
   "execution_count": 191,
   "metadata": {},
   "outputs": [
    {
     "data": {
      "text/html": [
       "<div>\n",
       "<style>\n",
       "    .dataframe thead tr:only-child th {\n",
       "        text-align: right;\n",
       "    }\n",
       "\n",
       "    .dataframe thead th {\n",
       "        text-align: left;\n",
       "    }\n",
       "\n",
       "    .dataframe tbody tr th {\n",
       "        vertical-align: top;\n",
       "    }\n",
       "</style>\n",
       "<table border=\"1\" class=\"dataframe\">\n",
       "  <thead>\n",
       "    <tr style=\"text-align: right;\">\n",
       "      <th></th>\n",
       "      <th>Features_x</th>\n",
       "      <th>Features_y</th>\n",
       "      <th>Class</th>\n",
       "      <th>Predictions</th>\n",
       "    </tr>\n",
       "  </thead>\n",
       "  <tbody>\n",
       "    <tr>\n",
       "      <th>0</th>\n",
       "      <td>0.336818</td>\n",
       "      <td>-3.402880</td>\n",
       "      <td>0</td>\n",
       "      <td>1</td>\n",
       "    </tr>\n",
       "    <tr>\n",
       "      <th>1</th>\n",
       "      <td>-1.087268</td>\n",
       "      <td>5.801480</td>\n",
       "      <td>1</td>\n",
       "      <td>1</td>\n",
       "    </tr>\n",
       "    <tr>\n",
       "      <th>2</th>\n",
       "      <td>-1.933363</td>\n",
       "      <td>5.709539</td>\n",
       "      <td>1</td>\n",
       "      <td>1</td>\n",
       "    </tr>\n",
       "    <tr>\n",
       "      <th>3</th>\n",
       "      <td>-1.635849</td>\n",
       "      <td>8.885796</td>\n",
       "      <td>1</td>\n",
       "      <td>1</td>\n",
       "    </tr>\n",
       "    <tr>\n",
       "      <th>4</th>\n",
       "      <td>0.541861</td>\n",
       "      <td>-4.376936</td>\n",
       "      <td>0</td>\n",
       "      <td>1</td>\n",
       "    </tr>\n",
       "  </tbody>\n",
       "</table>\n",
       "</div>"
      ],
      "text/plain": [
       "   Features_x  Features_y  Class  Predictions\n",
       "0    0.336818   -3.402880      0            1\n",
       "1   -1.087268    5.801480      1            1\n",
       "2   -1.933363    5.709539      1            1\n",
       "3   -1.635849    8.885796      1            1\n",
       "4    0.541861   -4.376936      0            1"
      ]
     },
     "execution_count": 191,
     "metadata": {},
     "output_type": "execute_result"
    }
   ],
   "source": [
    "results.head()"
   ]
  },
  {
   "cell_type": "code",
   "execution_count": 198,
   "metadata": {},
   "outputs": [],
   "source": [
    "results.to_csv('Pred_ManualNeuralNet.csv', header=True, index_label='Index')"
   ]
  },
  {
   "cell_type": "code",
   "execution_count": null,
   "metadata": {
    "collapsed": true
   },
   "outputs": [],
   "source": []
  }
 ],
 "metadata": {
  "kernelspec": {
   "display_name": "Python 3",
   "language": "python",
   "name": "python3"
  },
  "language_info": {
   "codemirror_mode": {
    "name": "ipython",
    "version": 3
   },
   "file_extension": ".py",
   "mimetype": "text/x-python",
   "name": "python",
   "nbconvert_exporter": "python",
   "pygments_lexer": "ipython3",
   "version": "3.5.4"
  }
 },
 "nbformat": 4,
 "nbformat_minor": 2
}
